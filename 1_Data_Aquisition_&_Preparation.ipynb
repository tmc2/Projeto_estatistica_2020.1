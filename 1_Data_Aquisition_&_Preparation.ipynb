{
  "nbformat": 4,
  "nbformat_minor": 0,
  "metadata": {
    "kernelspec": {
      "display_name": "Python 3",
      "language": "python",
      "name": "python3"
    },
    "language_info": {
      "codemirror_mode": {
        "name": "ipython",
        "version": 3
      },
      "file_extension": ".py",
      "mimetype": "text/x-python",
      "name": "python",
      "nbconvert_exporter": "python",
      "pygments_lexer": "ipython3",
      "version": "3.8.5"
    },
    "colab": {
      "name": "1 - Data Aquisition & Preparation.ipynb",
      "provenance": [],
      "include_colab_link": true
    }
  },
  "cells": [
    {
      "cell_type": "markdown",
      "metadata": {
        "id": "view-in-github",
        "colab_type": "text"
      },
      "source": [
        "<a href=\"https://colab.research.google.com/github/tmc2/Projeto_estatistica_2020.1/blob/master/1_Data_Aquisition_%26_Preparation.ipynb\" target=\"_parent\"><img src=\"https://colab.research.google.com/assets/colab-badge.svg\" alt=\"Open In Colab\"/></a>"
      ]
    },
    {
      "cell_type": "code",
      "metadata": {
        "id": "xRceYHQc1KuQ",
        "colab_type": "code",
        "colab": {}
      },
      "source": [
        "%%capture\n",
        "\n",
        "%cd ..\n",
        "%load_ext autoreload\n",
        "%autoreload 2"
      ],
      "execution_count": null,
      "outputs": []
    },
    {
      "cell_type": "code",
      "metadata": {
        "id": "FvxQyhEa1KuX",
        "colab_type": "code",
        "colab": {}
      },
      "source": [
        "from pathlib import Path\n",
        "import pandas as pd\n",
        "import numpy as np\n",
        "import json"
      ],
      "execution_count": null,
      "outputs": []
    },
    {
      "cell_type": "markdown",
      "metadata": {
        "id": "XWwUiP401Kub",
        "colab_type": "text"
      },
      "source": [
        "# Data Acquisition and Preparation"
      ]
    },
    {
      "cell_type": "code",
      "metadata": {
        "id": "b-kEJzhC1Kud",
        "colab_type": "code",
        "colab": {}
      },
      "source": [
        "RAW_DATA_FOLDER = Path('data/raw/')\n",
        "INTERMEDIATE_DATA_FOLDER = Path('data/interim/')\n",
        "REFERENCE_FOLDER = Path('references/')"
      ],
      "execution_count": null,
      "outputs": []
    },
    {
      "cell_type": "markdown",
      "metadata": {
        "id": "OMIwO8NO1Kug",
        "colab_type": "text"
      },
      "source": [
        "## Downloading Data"
      ]
    },
    {
      "cell_type": "code",
      "metadata": {
        "id": "rOqgTR2u1Kug",
        "colab_type": "code",
        "colab": {}
      },
      "source": [
        "# TODO: Data Acquisition"
      ],
      "execution_count": null,
      "outputs": []
    },
    {
      "cell_type": "markdown",
      "metadata": {
        "id": "q4n_1kUF1Kuj",
        "colab_type": "text"
      },
      "source": [
        "## Preparing Dataset"
      ]
    },
    {
      "cell_type": "code",
      "metadata": {
        "id": "RbRfcAk-1Kuj",
        "colab_type": "code",
        "colab": {}
      },
      "source": [
        "FAKE_DATA_FOLDER = RAW_DATA_FOLDER / 'fake'\n",
        "TRUE_DATA_FOLDER = RAW_DATA_FOLDER / 'true'\n",
        "FAKE_META_FOLDER = RAW_DATA_FOLDER / 'fake-meta-information'\n",
        "TRUE_META_FOLDER = RAW_DATA_FOLDER / 'true-meta-information'"
      ],
      "execution_count": null,
      "outputs": []
    },
    {
      "cell_type": "markdown",
      "metadata": {
        "id": "-CnchOlw1Kul",
        "colab_type": "text"
      },
      "source": [
        "### Text datasets"
      ]
    },
    {
      "cell_type": "code",
      "metadata": {
        "id": "PXIFjX7q1Kum",
        "colab_type": "code",
        "colab": {}
      },
      "source": [
        "def create_text_dataframe(folder):\n",
        "    df_dict = {}\n",
        "    for filepath in folder.glob(\"*.txt\"):\n",
        "        with open(filepath, 'r', encoding='utf-8') as f:\n",
        "            df_dict[filepath.stem] = f.read() \n",
        "    return pd.DataFrame.from_dict(df_dict, orient='index', columns=['text'])"
      ],
      "execution_count": null,
      "outputs": []
    },
    {
      "cell_type": "code",
      "metadata": {
        "id": "DwNR67NZ1Kup",
        "colab_type": "code",
        "colab": {}
      },
      "source": [
        "fake_text_df = create_text_dataframe(FAKE_DATA_FOLDER)\n",
        "true_text_df = create_text_dataframe(TRUE_DATA_FOLDER)"
      ],
      "execution_count": null,
      "outputs": []
    },
    {
      "cell_type": "markdown",
      "metadata": {
        "id": "zPDn66LQ1Kur",
        "colab_type": "text"
      },
      "source": [
        "### Metadata Datasets"
      ]
    },
    {
      "cell_type": "code",
      "metadata": {
        "id": "Vj8aCWIH1Kus",
        "colab_type": "code",
        "colab": {}
      },
      "source": [
        "def create_metadata_datasets(folder, metadata_columns, metadata_dtypes):\n",
        "    df_dict = {}\n",
        "    df_dict = {k:[] for k in metadata_columns}\n",
        "    df_dict[\"index\"] = []\n",
        "    \n",
        "    for filepath in list(folder.glob(\"*.txt\")):\n",
        "        with open(filepath, 'r') as f:    \n",
        "            df_dict[\"index\"].append(filepath.stem.split(\"-\")[0])\n",
        "            for col, value in zip(metadata_columns, f.readlines()):\n",
        "                df_dict[col].append(value[0:-1])\n",
        "    \n",
        "    df = pd.DataFrame(df_dict)\n",
        "    df = df.replace(\"None\", np.nan)\n",
        "    df = df.astype(metadata_dtypes, errors='ignore').set_index(\"index\", drop=True)\n",
        "    df.index.name = None\n",
        "    \n",
        "    return df"
      ],
      "execution_count": null,
      "outputs": []
    },
    {
      "cell_type": "code",
      "metadata": {
        "id": "qxFpwWYf1Kuv",
        "colab_type": "code",
        "colab": {}
      },
      "source": [
        "metadata_columns = [\n",
        "    \"author\", \"link\", \"category\", \"date_of_publication\",\n",
        "    \"tokens\", \"words_no_punctuation\", \"types\", \"links_inside\", \n",
        "    \"upper_words\", \"verbs\", \"subjuntive_imperative_verbs\",\n",
        "    \"nouns\", \"adjectives\", \"adverbs\", \"modal_verbs\", \n",
        "    \"singular_first_second_personal_pronouns\",\n",
        "    \"plural_first_personal_pronouns\", \"pronouns\",\n",
        "    \"pausality\", \"characters\", \"average_sentence_length\",\n",
        "    \"average_word_lenght\", \"percentage_spelling_errors\",\n",
        "    \"emotiveness\", \"diversity\"\n",
        "]\n",
        "\n",
        "metadata_translate = [\n",
        "    \"author\", \"link\", \"category\", \"date of publication\", \"number of tokens\",\n",
        "    \"number of words without punctuation\", \"number of types\",\n",
        "    \"number of links inside the news\", \"number of words in upper case\",\n",
        "    \"number of verbs\", \"number of subjuntive and imperative verbs\",\n",
        "    \"number of nouns\", \"number of adjectives\", \"number of adverbs\",\n",
        "    \"number of modal verbs (mainly auxiliary verbs)\",\n",
        "    \"number of singular first and second personal pronouns\",\n",
        "    \"number of plural first personal pronouns\", \"number of pronouns\",\n",
        "    \"pausality\", \"number of characters\", \"average sentence length\",\n",
        "    \"average word length\", \"percentage of news with speeling errors\",\n",
        "    \"emotiveness\", \"diversity\"\n",
        "]\n",
        "\n",
        "metadata_dtypes = {\n",
        "    \"author\": \"string\", \"link\": \"string\", \"category\": \"string\",\n",
        "    \"date_of_publication\": \"datetime64[ns]\",\n",
        "    \"tokens\": \"float\", \"words_no_punctuation\": \"float\",\n",
        "    \"types\": \"float\",\"links_inside\": \"float\", \"upper_words\": \"float\",\n",
        "    \"verbs\": \"float\", \"subjuntive_imperative_verbs\": \"float\", \"nouns\": \"float\", \n",
        "    \"adjectives\": \"float\", \"adverbs\": \"float\",\"modal_verbs\": \"float\", \n",
        "    \"singular_first_second_personal_pronouns\": \"float\",\n",
        "    \"plural_first_personal_pronouns\": \"float\", \"pronouns\": \"float\",\"characters\": \"float\",\n",
        "    \"pausality\": \"float\", \"average_sentence_length\": \"float\",\n",
        "    \"average_word_lenght\": \"float\", \"percentage_spelling_errors\": \"float\",\n",
        "    \"emotiveness\": \"float\", \"diversity\": \"float\"\n",
        "}"
      ],
      "execution_count": null,
      "outputs": []
    },
    {
      "cell_type": "code",
      "metadata": {
        "id": "t7R_6FxI1Kuy",
        "colab_type": "code",
        "colab": {}
      },
      "source": [
        "fake_metadata_df = create_metadata_datasets(FAKE_META_FOLDER, metadata_columns, metadata_dtypes)\n",
        "true_metadata_df = create_metadata_datasets(TRUE_META_FOLDER, metadata_columns, metadata_dtypes)"
      ],
      "execution_count": null,
      "outputs": []
    },
    {
      "cell_type": "code",
      "metadata": {
        "id": "uVw044zc1Ku1",
        "colab_type": "code",
        "colab": {},
        "outputId": "1931b989-0fab-4905-e244-645f04899481"
      },
      "source": [
        "fake_metadata_df.links_inside.unique()"
      ],
      "execution_count": null,
      "outputs": [
        {
          "output_type": "execute_result",
          "data": {
            "text/plain": [
              "array([ 0.,  1.,  2.,  3.,  4.,  5.,  9., 11.,  6.,  8.])"
            ]
          },
          "metadata": {
            "tags": []
          },
          "execution_count": 15
        }
      ]
    },
    {
      "cell_type": "code",
      "metadata": {
        "id": "R27e5s_v1Ku5",
        "colab_type": "code",
        "colab": {},
        "outputId": "3439eee4-5283-4a80-d441-60b8a9428386"
      },
      "source": [
        "fake_metadata_df.links_inside.isna().sum()"
      ],
      "execution_count": null,
      "outputs": [
        {
          "output_type": "execute_result",
          "data": {
            "text/plain": [
              "0"
            ]
          },
          "metadata": {
            "tags": []
          },
          "execution_count": 17
        }
      ]
    },
    {
      "cell_type": "code",
      "metadata": {
        "id": "Q00SvtLz1Ku7",
        "colab_type": "code",
        "colab": {}
      },
      "source": [
        "true_metadata_df.loc[[\"69\", \"61\"]]"
      ],
      "execution_count": null,
      "outputs": []
    },
    {
      "cell_type": "code",
      "metadata": {
        "id": "2KgyQqf_1Ku9",
        "colab_type": "code",
        "colab": {}
      },
      "source": [
        "true_text_df.loc[['68']].text"
      ],
      "execution_count": null,
      "outputs": []
    },
    {
      "cell_type": "markdown",
      "metadata": {
        "id": "Xg_SiDf-1KvA",
        "colab_type": "text"
      },
      "source": [
        "## Merging Created Datasets"
      ]
    },
    {
      "cell_type": "markdown",
      "metadata": {
        "id": "r1JDbE0I1KvB",
        "colab_type": "text"
      },
      "source": [
        "### Fake Dataset"
      ]
    },
    {
      "cell_type": "code",
      "metadata": {
        "id": "tsNC8pLR1KvB",
        "colab_type": "code",
        "colab": {}
      },
      "source": [
        "fake_df = pd.concat([fake_text_df, fake_metadata_df], axis=1, sort=False)\n",
        "fake_df.index = fake_df.index.astype(int)\n",
        "fake_df = fake_df.sort_index()\n",
        "fake_df = fake_df.reset_index(drop=True)"
      ],
      "execution_count": null,
      "outputs": []
    },
    {
      "cell_type": "markdown",
      "metadata": {
        "id": "EKWnA08v1KvD",
        "colab_type": "text"
      },
      "source": [
        "### True Dataset"
      ]
    },
    {
      "cell_type": "code",
      "metadata": {
        "id": "fzyOqE8R1KvD",
        "colab_type": "code",
        "colab": {}
      },
      "source": [
        "true_df = pd.concat([true_text_df, true_metadata_df], axis=1, sort=False)\n",
        "true_df.index = true_df.index.astype(int)\n",
        "true_df = true_df.sort_index()\n",
        "true_df = true_df.reset_index(drop=True)"
      ],
      "execution_count": null,
      "outputs": []
    },
    {
      "cell_type": "markdown",
      "metadata": {
        "id": "eCW0rYgf1KvG",
        "colab_type": "text"
      },
      "source": [
        "## Merge All Datasets"
      ]
    },
    {
      "cell_type": "code",
      "metadata": {
        "id": "bs3ct1fh1KvG",
        "colab_type": "code",
        "colab": {}
      },
      "source": [
        "result = pd.concat([true_df, fake_df], keys=['True', 'Fake'])\n",
        "result = result.reset_index(level=0).rename(columns={\"level_0\": \"class\"})\n",
        "\n",
        "result.to_csv(INTERMEDIATE_DATA_FOLDER/\"fake_true_news.csv\", index=False)"
      ],
      "execution_count": null,
      "outputs": []
    },
    {
      "cell_type": "markdown",
      "metadata": {
        "id": "rdKbisv51KvI",
        "colab_type": "text"
      },
      "source": [
        "## Columns Information"
      ]
    },
    {
      "cell_type": "code",
      "metadata": {
        "id": "g8Md5fBk1KvJ",
        "colab_type": "code",
        "colab": {}
      },
      "source": [
        "columns_info ={}\n",
        "columns_info['text'] = 'Text extracted from the news'\n",
        "for var, desc in zip(metadata_columns, metadata_translate):\n",
        "    columns_info[var] = desc"
      ],
      "execution_count": null,
      "outputs": []
    },
    {
      "cell_type": "code",
      "metadata": {
        "id": "l5OM8JQ71KvL",
        "colab_type": "code",
        "colab": {}
      },
      "source": [
        "with open(REFERENCE_FOLDER / \"news_data_dictionary.json\",\"w\") as f:\n",
        "    f.write(json.dumps(columns_info))\n",
        "    f.close()"
      ],
      "execution_count": null,
      "outputs": []
    }
  ]
}